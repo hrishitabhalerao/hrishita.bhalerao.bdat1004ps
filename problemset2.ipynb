{
 "cells": [
  {
   "cell_type": "code",
   "execution_count": 2,
   "id": "bf48ca82",
   "metadata": {},
   "outputs": [
    {
     "name": "stdout",
     "output_type": "stream",
     "text": [
      "2\n",
      "4\n",
      "6\n",
      "6\n"
     ]
    }
   ],
   "source": [
    "#quesation 1\n",
    "a=0\n",
    "\n",
    "def b():\n",
    "    global a\n",
    "    a = c(a)\n",
    "    return a\n",
    "\n",
    "def c(a):\n",
    "    return a + 2\n",
    "\n",
    "print(b())\n",
    "print(b())\n",
    "print(b())\n",
    "print(a)"
   ]
  },
  {
   "cell_type": "code",
   "execution_count": null,
   "id": "862375e2",
   "metadata": {},
   "outputs": [],
   "source": [
    "#In the first b() call the global a is used i.e. 0 which is passed to c() from which the value of a becomes 2 and hence b() returns 2\n",
    "#In the second b() call the same process is followed and the a value becomes 4\n",
    "#The same thing in the 3rd b() call. The value of a becomes 6\n",
    "#As the a used in b() was declared global so the value change of a is made to the global a. Hence the final value of a becomes 6."
   ]
  },
  {
   "cell_type": "code",
   "execution_count": 3,
   "id": "afa7aace",
   "metadata": {},
   "outputs": [],
   "source": [
    "#question 2\n",
    "def fileLength(filename):\n",
    "    try:\n",
    "        open_file = open(filename, 'r')\n",
    "        file_data = open_file.read()\n",
    "        length_of_file = len(file_data)\n",
    "        open_file.close()\n",
    "        return length_of_file\n",
    "    except:\n",
    "        return \"file \"+ filename + \" not found.\""
   ]
  },
  {
   "cell_type": "code",
   "execution_count": 4,
   "id": "04e3801b",
   "metadata": {},
   "outputs": [
    {
     "data": {
      "text/plain": [
       "'file w3c.html not found.'"
      ]
     },
     "execution_count": 4,
     "metadata": {},
     "output_type": "execute_result"
    }
   ],
   "source": [
    "fileLength('w3c.html')"
   ]
  },
  {
   "cell_type": "code",
   "execution_count": 5,
   "id": "79264593",
   "metadata": {},
   "outputs": [
    {
     "data": {
      "text/plain": [
       "'file idterm.py not found.'"
      ]
     },
     "execution_count": 5,
     "metadata": {},
     "output_type": "execute_result"
    }
   ],
   "source": [
    "fileLength(\"idterm.py\")"
   ]
  },
  {
   "cell_type": "code",
   "execution_count": 6,
   "id": "42aa5948",
   "metadata": {},
   "outputs": [
    {
     "name": "stdout",
     "output_type": "stream",
     "text": [
      "['doll', 'firetruck', 'kitten']\n"
     ]
    }
   ],
   "source": [
    "#question 3\n",
    "class Marsupial:\n",
    "\n",
    "    def __init__(self):\n",
    "        self.new_list = []\n",
    "        self.new_list.clear()\n",
    "\n",
    "    def put_in_pouch(self, value):\n",
    "        self.new_list.append(value)\n",
    "\n",
    "    def pouch_contents(self):\n",
    "        return self.new_list\n",
    "    \n",
    "m = Marsupial()\n",
    "m.put_in_pouch('doll')\n",
    "m.put_in_pouch('firetruck')\n",
    "m.put_in_pouch('kitten')\n",
    "print(m.pouch_contents())"
   ]
  },
  {
   "cell_type": "code",
   "execution_count": 7,
   "id": "2e134268",
   "metadata": {},
   "outputs": [
    {
     "name": "stdout",
     "output_type": "stream",
     "text": [
      "I am a Kangaroo located at coordinates (0,0)\n",
      "['doll', 'firetruck', 'kitten']\n",
      "I am a Kangaroo located at coordinates (3,0)\n"
     ]
    }
   ],
   "source": [
    "class Kangaroo(Marsupial):\n",
    "\n",
    "    def __init__(self,x,y):\n",
    "        self.new_list = []\n",
    "        self.new_list.clear ()\n",
    "        self.x = x\n",
    "        self.y = y\n",
    "        \n",
    "    def  __str__(self):\n",
    "         return (\"I am a Kangaroo located at coordinates (\"+str(self.x)+\",\"+str(self.y)+\")\")\n",
    "\n",
    "    def jump(self,dx,dy):\n",
    "        self.x = self.x + dx\n",
    "        self.y = self.y + dy\n",
    "    \n",
    "        \n",
    "k = Kangaroo(0,0)\n",
    "print(k)\n",
    "k.put_in_pouch('doll')\n",
    "k.put_in_pouch('firetruck')\n",
    "k.put_in_pouch('kitten')\n",
    "print(k.pouch_contents())\n",
    "k.jump(1,0)\n",
    "k.jump(1,0)\n",
    "k.jump(1,0)\n",
    "print(k)"
   ]
  },
  {
   "cell_type": "code",
   "execution_count": 8,
   "id": "1af16a6f",
   "metadata": {},
   "outputs": [],
   "source": [
    "#question 4\n",
    "def collatz(input):\n",
    "    \n",
    "    new_list = [input]\n",
    "    if input < 1:\n",
    "        return (\"Enter a postive integer\")\n",
    "\n",
    "    if input == 1:\n",
    "        return [1]\n",
    "    \n",
    "    elif input % 2 == 0:\n",
    "        new_list.extend(collatz(int(input/2)))\n",
    "    else:\n",
    "        new_list.extend(collatz((input*3)+1))\n",
    "    return new_list"
   ]
  },
  {
   "cell_type": "code",
   "execution_count": 9,
   "id": "e81439b2",
   "metadata": {},
   "outputs": [
    {
     "name": "stdout",
     "output_type": "stream",
     "text": [
      "1\n"
     ]
    }
   ],
   "source": [
    "values = collatz(1)\n",
    "for value in values:\n",
    "    print(value)"
   ]
  },
  {
   "cell_type": "code",
   "execution_count": 10,
   "id": "8499e09e",
   "metadata": {},
   "outputs": [
    {
     "name": "stdout",
     "output_type": "stream",
     "text": [
      "10\n",
      "5\n",
      "16\n",
      "8\n",
      "4\n",
      "2\n",
      "1\n"
     ]
    }
   ],
   "source": [
    "values = collatz(10)\n",
    "for value in values:\n",
    "    print(value)"
   ]
  },
  {
   "cell_type": "code",
   "execution_count": 11,
   "id": "f56d1dab",
   "metadata": {},
   "outputs": [],
   "source": [
    "#question 5\n",
    "def binary(input): \n",
    "    if input<0: \n",
    "        return (\"Enter postive integer\")\n",
    "    \n",
    "    elif input >=1: \n",
    "        return ((10*binary(int(input/2))) + (input%2))\n",
    "        \n",
    "    else: \n",
    "        return 0\n",
    "    "
   ]
  },
  {
   "cell_type": "code",
   "execution_count": 12,
   "id": "e4fb87b6",
   "metadata": {},
   "outputs": [
    {
     "data": {
      "text/plain": [
       "0"
      ]
     },
     "execution_count": 12,
     "metadata": {},
     "output_type": "execute_result"
    }
   ],
   "source": [
    "binary(0)"
   ]
  },
  {
   "cell_type": "code",
   "execution_count": 13,
   "id": "51741f32",
   "metadata": {},
   "outputs": [
    {
     "data": {
      "text/plain": [
       "1"
      ]
     },
     "execution_count": 13,
     "metadata": {},
     "output_type": "execute_result"
    }
   ],
   "source": [
    "binary(1)"
   ]
  },
  {
   "cell_type": "code",
   "execution_count": 14,
   "id": "f6708165",
   "metadata": {},
   "outputs": [
    {
     "data": {
      "text/plain": [
       "11"
      ]
     },
     "execution_count": 14,
     "metadata": {},
     "output_type": "execute_result"
    }
   ],
   "source": [
    "binary(3)"
   ]
  },
  {
   "cell_type": "code",
   "execution_count": 15,
   "id": "46e53d8d",
   "metadata": {},
   "outputs": [
    {
     "data": {
      "text/plain": [
       "1001"
      ]
     },
     "execution_count": 15,
     "metadata": {},
     "output_type": "execute_result"
    }
   ],
   "source": [
    "binary(9)"
   ]
  },
  {
   "cell_type": "code",
   "execution_count": 5,
   "id": "d2ffeb8c",
   "metadata": {},
   "outputs": [
    {
     "ename": "FileNotFoundError",
     "evalue": "[Errno 2] No such file or directory: 'w3c.html'",
     "output_type": "error",
     "traceback": [
      "\u001b[1;31m---------------------------------------------------------------------------\u001b[0m",
      "\u001b[1;31mFileNotFoundError\u001b[0m                         Traceback (most recent call last)",
      "Input \u001b[1;32mIn [5]\u001b[0m, in \u001b[0;36m<cell line: 47>\u001b[1;34m()\u001b[0m\n\u001b[0;32m     44\u001b[0m         \u001b[38;5;28;01melif\u001b[39;00m tag \u001b[38;5;241m==\u001b[39m \u001b[38;5;124m\"\u001b[39m\u001b[38;5;124mh6\u001b[39m\u001b[38;5;124m\"\u001b[39m:\n\u001b[0;32m     45\u001b[0m             \u001b[38;5;28mself\u001b[39m\u001b[38;5;241m.\u001b[39mflag \u001b[38;5;241m=\u001b[39m \u001b[38;5;28;01mFalse\u001b[39;00m\n\u001b[1;32m---> 47\u001b[0m infile \u001b[38;5;241m=\u001b[39m \u001b[38;5;28;43mopen\u001b[39;49m\u001b[43m(\u001b[49m\u001b[38;5;124;43m'\u001b[39;49m\u001b[38;5;124;43mw3c.html\u001b[39;49m\u001b[38;5;124;43m'\u001b[39;49m\u001b[43m)\u001b[49m\n\u001b[0;32m     48\u001b[0m content \u001b[38;5;241m=\u001b[39m infile\u001b[38;5;241m.\u001b[39mread()\n\u001b[0;32m     49\u001b[0m infile\u001b[38;5;241m.\u001b[39mclose()\n",
      "\u001b[1;31mFileNotFoundError\u001b[0m: [Errno 2] No such file or directory: 'w3c.html'"
     ]
    }
   ],
   "source": [
    "#question 6\n",
    "from html.parser import HTMLParser\n",
    "\n",
    "class HeadingParser(HTMLParser):\n",
    "    flag = False\n",
    "    indetation_value = 0\n",
    "\n",
    "    def handle_starttag(self, tag, attrs):  \n",
    "        if tag == \"h1\":  \n",
    "            self.flag = True \n",
    "            self.indetation_value = 0\n",
    "\n",
    "        elif tag == \"h2\":\n",
    "            self.flag = True\n",
    "            self.indetation_value = 1\n",
    "        elif tag == \"h3\":\n",
    "            self.flag = True\n",
    "            self.indetation_value = 2\n",
    "        elif tag == \"h4\":\n",
    "            self.flag = True\n",
    "            self.indetation_value = 3\n",
    "        elif tag == \"h5\":\n",
    "            self.flag = True\n",
    "            self.indetation_value = 4\n",
    "        elif tag == \"h6\":\n",
    "            self.flag = True\n",
    "            self.indetation_value = 5\n",
    "\n",
    "\n",
    "    def handle_data(self, data):  \n",
    "        if self.flag:\n",
    "            print (self.indetation_value*\"\\t\"+data)\n",
    "\n",
    "    def handle_endtag(self, tag):  \n",
    "        if tag == \"h1\":  \n",
    "            self.flag = False\n",
    "        elif tag == \"h2\":\n",
    "            self.flag = False\n",
    "        elif tag == \"h3\":\n",
    "            self.flag = False\n",
    "        elif tag == \"h4\":\n",
    "            self.flag = False\n",
    "        elif tag == \"h5\":\n",
    "            self.flag = False\n",
    "        elif tag == \"h6\":\n",
    "            self.flag = False\n",
    "\n",
    "infile = open('w3c.html')\n",
    "content = infile.read()\n",
    "infile.close()\n",
    "hp = HeadingParser()\n",
    "hp.feed(content)"
   ]
  },
  {
   "cell_type": "code",
   "execution_count": 21,
   "id": "c123b791",
   "metadata": {},
   "outputs": [],
   "source": [
    "#question 8\n",
    "import pandas as pd\n",
    "import sqlite3"
   ]
  },
  {
   "cell_type": "code",
   "execution_count": 19,
   "id": "e507cfca",
   "metadata": {},
   "outputs": [
    {
     "name": "stdout",
     "output_type": "stream",
     "text": [
      "Collecting ipython-sql\n",
      "  Downloading ipython_sql-0.4.1-py3-none-any.whl (21 kB)\n",
      "Collecting prettytable<1\n",
      "  Downloading prettytable-0.7.2.zip (28 kB)\n",
      "Requirement already satisfied: sqlalchemy>=0.6.7 in c:\\users\\hrishita\\anaconda3\\lib\\site-packages (from ipython-sql) (1.4.32)\n",
      "Collecting sqlparse\n",
      "  Downloading sqlparse-0.4.3-py3-none-any.whl (42 kB)\n",
      "Requirement already satisfied: ipython-genutils>=0.1.0 in c:\\users\\hrishita\\anaconda3\\lib\\site-packages (from ipython-sql) (0.2.0)\n",
      "Requirement already satisfied: ipython>=1.0 in c:\\users\\hrishita\\anaconda3\\lib\\site-packages (from ipython-sql) (8.2.0)\n",
      "Requirement already satisfied: six in c:\\users\\hrishita\\anaconda3\\lib\\site-packages (from ipython-sql) (1.16.0)\n",
      "Requirement already satisfied: pygments>=2.4.0 in c:\\users\\hrishita\\anaconda3\\lib\\site-packages (from ipython>=1.0->ipython-sql) (2.11.2)\n",
      "Requirement already satisfied: matplotlib-inline in c:\\users\\hrishita\\anaconda3\\lib\\site-packages (from ipython>=1.0->ipython-sql) (0.1.2)\n",
      "Requirement already satisfied: decorator in c:\\users\\hrishita\\anaconda3\\lib\\site-packages (from ipython>=1.0->ipython-sql) (5.1.1)\n",
      "Requirement already satisfied: backcall in c:\\users\\hrishita\\anaconda3\\lib\\site-packages (from ipython>=1.0->ipython-sql) (0.2.0)\n",
      "Requirement already satisfied: setuptools>=18.5 in c:\\users\\hrishita\\anaconda3\\lib\\site-packages (from ipython>=1.0->ipython-sql) (61.2.0)\n",
      "Requirement already satisfied: traitlets>=5 in c:\\users\\hrishita\\anaconda3\\lib\\site-packages (from ipython>=1.0->ipython-sql) (5.1.1)\n",
      "Requirement already satisfied: colorama in c:\\users\\hrishita\\anaconda3\\lib\\site-packages (from ipython>=1.0->ipython-sql) (0.4.4)\n",
      "Requirement already satisfied: pickleshare in c:\\users\\hrishita\\anaconda3\\lib\\site-packages (from ipython>=1.0->ipython-sql) (0.7.5)\n",
      "Requirement already satisfied: prompt-toolkit!=3.0.0,!=3.0.1,<3.1.0,>=2.0.0 in c:\\users\\hrishita\\anaconda3\\lib\\site-packages (from ipython>=1.0->ipython-sql) (3.0.20)\n",
      "Requirement already satisfied: jedi>=0.16 in c:\\users\\hrishita\\anaconda3\\lib\\site-packages (from ipython>=1.0->ipython-sql) (0.18.1)\n",
      "Requirement already satisfied: stack-data in c:\\users\\hrishita\\anaconda3\\lib\\site-packages (from ipython>=1.0->ipython-sql) (0.2.0)\n",
      "Requirement already satisfied: parso<0.9.0,>=0.8.0 in c:\\users\\hrishita\\anaconda3\\lib\\site-packages (from jedi>=0.16->ipython>=1.0->ipython-sql) (0.8.3)\n",
      "Requirement already satisfied: wcwidth in c:\\users\\hrishita\\anaconda3\\lib\\site-packages (from prompt-toolkit!=3.0.0,!=3.0.1,<3.1.0,>=2.0.0->ipython>=1.0->ipython-sql) (0.2.5)\n",
      "Requirement already satisfied: greenlet!=0.4.17 in c:\\users\\hrishita\\anaconda3\\lib\\site-packages (from sqlalchemy>=0.6.7->ipython-sql) (1.1.1)\n",
      "Requirement already satisfied: asttokens in c:\\users\\hrishita\\anaconda3\\lib\\site-packages (from stack-data->ipython>=1.0->ipython-sql) (2.0.5)\n",
      "Requirement already satisfied: executing in c:\\users\\hrishita\\anaconda3\\lib\\site-packages (from stack-data->ipython>=1.0->ipython-sql) (0.8.3)\n",
      "Requirement already satisfied: pure-eval in c:\\users\\hrishita\\anaconda3\\lib\\site-packages (from stack-data->ipython>=1.0->ipython-sql) (0.2.2)\n",
      "Building wheels for collected packages: prettytable\n",
      "  Building wheel for prettytable (setup.py): started\n",
      "  Building wheel for prettytable (setup.py): finished with status 'done'\n",
      "  Created wheel for prettytable: filename=prettytable-0.7.2-py3-none-any.whl size=13714 sha256=ab677b19651699dd1f8c78b7f37a792dceb85d1a825d101fabf855da67a00455\n",
      "  Stored in directory: c:\\users\\hrishita\\appdata\\local\\pip\\cache\\wheels\\75\\f7\\28\\77a076f1fa8cbeda61aca712815d04d7a32435f04a26a2dd7b\n",
      "Successfully built prettytable\n",
      "Installing collected packages: sqlparse, prettytable, ipython-sql\n",
      "Successfully installed ipython-sql-0.4.1 prettytable-0.7.2 sqlparse-0.4.3\n"
     ]
    }
   ],
   "source": [
    "!pip install ipython-sql"
   ]
  },
  {
   "cell_type": "code",
   "execution_count": 20,
   "id": "a7754ef6",
   "metadata": {},
   "outputs": [
    {
     "data": {
      "text/html": [
       "<div>\n",
       "<style scoped>\n",
       "    .dataframe tbody tr th:only-of-type {\n",
       "        vertical-align: middle;\n",
       "    }\n",
       "\n",
       "    .dataframe tbody tr th {\n",
       "        vertical-align: top;\n",
       "    }\n",
       "\n",
       "    .dataframe thead th {\n",
       "        text-align: right;\n",
       "    }\n",
       "</style>\n",
       "<table border=\"1\" class=\"dataframe\">\n",
       "  <thead>\n",
       "    <tr style=\"text-align: right;\">\n",
       "      <th></th>\n",
       "      <th>City</th>\n",
       "      <th>Country</th>\n",
       "      <th>Season</th>\n",
       "      <th>Tempareture C</th>\n",
       "      <th>Rainfall</th>\n",
       "    </tr>\n",
       "  </thead>\n",
       "  <tbody>\n",
       "    <tr>\n",
       "      <th>0</th>\n",
       "      <td>Mumbai</td>\n",
       "      <td>India</td>\n",
       "      <td>Winter</td>\n",
       "      <td>24.8</td>\n",
       "      <td>5.9</td>\n",
       "    </tr>\n",
       "    <tr>\n",
       "      <th>1</th>\n",
       "      <td>Mumbai</td>\n",
       "      <td>India</td>\n",
       "      <td>Spring</td>\n",
       "      <td>28.4</td>\n",
       "      <td>16.2</td>\n",
       "    </tr>\n",
       "    <tr>\n",
       "      <th>2</th>\n",
       "      <td>Mumbai</td>\n",
       "      <td>India</td>\n",
       "      <td>Summer</td>\n",
       "      <td>27.9</td>\n",
       "      <td>1549.4</td>\n",
       "    </tr>\n",
       "    <tr>\n",
       "      <th>3</th>\n",
       "      <td>Mumbai</td>\n",
       "      <td>India</td>\n",
       "      <td>Fall</td>\n",
       "      <td>27.6</td>\n",
       "      <td>346.0</td>\n",
       "    </tr>\n",
       "    <tr>\n",
       "      <th>4</th>\n",
       "      <td>London</td>\n",
       "      <td>United Kingdom</td>\n",
       "      <td>Winter</td>\n",
       "      <td>4.2</td>\n",
       "      <td>207.7</td>\n",
       "    </tr>\n",
       "    <tr>\n",
       "      <th>5</th>\n",
       "      <td>London</td>\n",
       "      <td>United Kingdom</td>\n",
       "      <td>Spring</td>\n",
       "      <td>8.3</td>\n",
       "      <td>169.6</td>\n",
       "    </tr>\n",
       "    <tr>\n",
       "      <th>6</th>\n",
       "      <td>London</td>\n",
       "      <td>United Kingdom</td>\n",
       "      <td>Summer</td>\n",
       "      <td>15.7</td>\n",
       "      <td>157.0</td>\n",
       "    </tr>\n",
       "    <tr>\n",
       "      <th>7</th>\n",
       "      <td>London</td>\n",
       "      <td>United Kingdom</td>\n",
       "      <td>Fall</td>\n",
       "      <td>10.4</td>\n",
       "      <td>218.5</td>\n",
       "    </tr>\n",
       "    <tr>\n",
       "      <th>8</th>\n",
       "      <td>Cairo</td>\n",
       "      <td>Egypt</td>\n",
       "      <td>Winter</td>\n",
       "      <td>13.6</td>\n",
       "      <td>16.5</td>\n",
       "    </tr>\n",
       "    <tr>\n",
       "      <th>9</th>\n",
       "      <td>Cairo</td>\n",
       "      <td>Egypt</td>\n",
       "      <td>Spring</td>\n",
       "      <td>20.7</td>\n",
       "      <td>6.5</td>\n",
       "    </tr>\n",
       "    <tr>\n",
       "      <th>10</th>\n",
       "      <td>Cairo</td>\n",
       "      <td>Egypt</td>\n",
       "      <td>Summer</td>\n",
       "      <td>27.7</td>\n",
       "      <td>0.1</td>\n",
       "    </tr>\n",
       "    <tr>\n",
       "      <th>11</th>\n",
       "      <td>Cairo</td>\n",
       "      <td>Egypt</td>\n",
       "      <td>Fall</td>\n",
       "      <td>22.2</td>\n",
       "      <td>4.5</td>\n",
       "    </tr>\n",
       "  </tbody>\n",
       "</table>\n",
       "</div>"
      ],
      "text/plain": [
       "      City         Country  Season  Tempareture C  Rainfall\n",
       "0   Mumbai           India  Winter           24.8       5.9\n",
       "1   Mumbai           India  Spring           28.4      16.2\n",
       "2   Mumbai           India  Summer           27.9    1549.4\n",
       "3   Mumbai           India    Fall           27.6     346.0\n",
       "4   London  United Kingdom  Winter            4.2     207.7\n",
       "5   London  United Kingdom  Spring            8.3     169.6\n",
       "6   London  United Kingdom  Summer           15.7     157.0\n",
       "7   London  United Kingdom    Fall           10.4     218.5\n",
       "8    Cairo           Egypt  Winter           13.6      16.5\n",
       "9    Cairo           Egypt  Spring           20.7       6.5\n",
       "10   Cairo           Egypt  Summer           27.7       0.1\n",
       "11   Cairo           Egypt    Fall           22.2       4.5"
      ]
     },
     "execution_count": 20,
     "metadata": {},
     "output_type": "execute_result"
    }
   ],
   "source": [
    "df= pd.DataFrame({'City':['Mumbai','Mumbai','Mumbai','Mumbai','London','London','London','London','Cairo','Cairo','Cairo','Cairo'],\n",
    "                 'Country':['India','India','India','India','United Kingdom','United Kingdom','United Kingdom','United Kingdom','Egypt','Egypt','Egypt','Egypt'],\n",
    "                 'Season':['Winter','Spring','Summer','Fall','Winter','Spring','Summer','Fall','Winter','Spring','Summer','Fall'],\n",
    "                 'Tempareture C':[24.8,28.4,27.9,27.6,4.2,8.3,15.7,10.4,13.6,20.7,27.7,22.2],\n",
    "                 'Rainfall':[5.9,16.2,1549.4,346.0,207.7,169.6,157.0,218.5,16.5,6.5,0.1,4.5]})\n",
    "df"
   ]
  },
  {
   "cell_type": "code",
   "execution_count": null,
   "id": "76145dc7",
   "metadata": {},
   "outputs": [],
   "source": []
  },
  {
   "cell_type": "code",
   "execution_count": 8,
   "id": "d4670c3e",
   "metadata": {},
   "outputs": [
    {
     "name": "stdout",
     "output_type": "stream",
     "text": [
      "['The', 'quick', 'brown', 'fox', 'jumps', 'over', 'the', 'lazy', 'dog']\n"
     ]
    }
   ],
   "source": [
    "#question 9\n",
    "#a)\n",
    "words = ['The', 'quick', 'brown', 'fox', 'jumps', 'over',\n",
    "'the', 'lazy', 'dog']\n",
    "print(words)"
   ]
  },
  {
   "cell_type": "code",
   "execution_count": 9,
   "id": "16812ce8",
   "metadata": {},
   "outputs": [
    {
     "name": "stdout",
     "output_type": "stream",
     "text": [
      "['THE', 'QUICK', 'BROWN', 'FOX', 'JUMPS', 'OVER', 'THE', 'LAZY', 'DOG']\n"
     ]
    }
   ],
   "source": [
    "#b)\n",
    "words = ['The', 'quick', 'brown', 'fox', 'jumps', 'over',\n",
    "'the', 'lazy', 'dog']\n",
    "words = [element.upper() for element in words]\n",
    "print(words)"
   ]
  },
  {
   "cell_type": "code",
   "execution_count": 11,
   "id": "9659c87a",
   "metadata": {},
   "outputs": [
    {
     "name": "stdout",
     "output_type": "stream",
     "text": [
      "['the', 'quick', 'brown', 'fox', 'jumps', 'over', 'the', 'lazy', 'dog']\n"
     ]
    }
   ],
   "source": [
    "#c)\n",
    "words = ['The', 'quick', 'brown', 'fox', 'jumps', 'over',\n",
    "'the', 'lazy', 'dog']\n",
    "words = [element.lower() for element in words]\n",
    "print(words)"
   ]
  },
  {
   "cell_type": "code",
   "execution_count": 12,
   "id": "d82f9064",
   "metadata": {},
   "outputs": [
    {
     "name": "stdout",
     "output_type": "stream",
     "text": [
      "[3, 5, 5, 3, 5, 4, 3, 4, 3]\n"
     ]
    }
   ],
   "source": [
    "#d)\n",
    "new_list = [len(i) for i in words]\n",
    "print(new_list)"
   ]
  },
  {
   "cell_type": "code",
   "execution_count": 15,
   "id": "b5379581",
   "metadata": {},
   "outputs": [
    {
     "name": "stdout",
     "output_type": "stream",
     "text": [
      "['quick', 'brown', 'jumps', 'over', 'lazy']\n"
     ]
    }
   ],
   "source": [
    "#e)\n",
    "new_words = [i for i in words if len(i) >= 4]\n",
    "print(new_words)"
   ]
  },
  {
   "cell_type": "code",
   "execution_count": null,
   "id": "41f5b065",
   "metadata": {},
   "outputs": [],
   "source": []
  },
  {
   "cell_type": "code",
   "execution_count": null,
   "id": "b85fe2a3",
   "metadata": {},
   "outputs": [],
   "source": []
  }
 ],
 "metadata": {
  "kernelspec": {
   "display_name": "Python 3 (ipykernel)",
   "language": "python",
   "name": "python3"
  },
  "language_info": {
   "codemirror_mode": {
    "name": "ipython",
    "version": 3
   },
   "file_extension": ".py",
   "mimetype": "text/x-python",
   "name": "python",
   "nbconvert_exporter": "python",
   "pygments_lexer": "ipython3",
   "version": "3.9.12"
  }
 },
 "nbformat": 4,
 "nbformat_minor": 5
}
